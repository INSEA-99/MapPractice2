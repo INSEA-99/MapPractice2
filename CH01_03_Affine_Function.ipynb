{
  "nbformat": 4,
  "nbformat_minor": 0,
  "metadata": {
    "colab": {
      "name": "CH01_03. Affine_Function",
      "provenance": [],
      "authorship_tag": "ABX9TyPtknK47r3iC7s9rIDI+qoG",
      "include_colab_link": true
    },
    "kernelspec": {
      "name": "python3",
      "display_name": "Python 3"
    },
    "language_info": {
      "name": "python"
    }
  },
  "cells": [
    {
      "cell_type": "markdown",
      "metadata": {
        "id": "view-in-github",
        "colab_type": "text"
      },
      "source": [
        "<a href=\"https://colab.research.google.com/github/INSEA-99/MapPractice2/blob/master/CH01_03_Affine_Function.ipynb\" target=\"_parent\"><img src=\"https://colab.research.google.com/assets/colab-badge.svg\" alt=\"Open In Colab\"/></a>"
      ]
    },
    {
      "cell_type": "code",
      "execution_count": null,
      "metadata": {
        "id": "T07Gzshe5Hvj"
      },
      "outputs": [],
      "source": [
        "???"
      ]
    }
  ]
}